{
 "cells": [
  {
   "cell_type": "markdown",
   "metadata": {},
   "source": [
    "# Data generators\n",
    "\n"
   ]
  },
  {
   "cell_type": "markdown",
   "metadata": {},
   "source": [
    "A generator is a function that behaves like an iterator. It will return the next item. Here is a [link](https://wiki.python.org/moin/Generators) to review python generators. \n",
    "When 'yield' appears, it ususally connects to generator.\n",
    "This is different from 'return'"
   ]
  },
  {
   "cell_type": "code",
   "execution_count": 3,
   "metadata": {},
   "outputs": [],
   "source": [
    "import random \n",
    "import numpy as np"
   ]
  },
  {
   "cell_type": "code",
   "execution_count": 15,
   "metadata": {},
   "outputs": [],
   "source": [
    "# a simple example\n",
    "def numberpower_generator():\n",
    "    x = random.randint(0,10)\n",
    "    yield x**2\n",
    "    yield x**3\n",
    "    yield x**4"
   ]
  },
  {
   "cell_type": "code",
   "execution_count": 16,
   "metadata": {},
   "outputs": [
    {
     "name": "stdout",
     "output_type": "stream",
     "text": [
      "4\n"
     ]
    }
   ],
   "source": [
    "# only give first one\n",
    "print(next(numbersquare_generator()))\n"
   ]
  },
  {
   "cell_type": "code",
   "execution_count": 17,
   "metadata": {},
   "outputs": [
    {
     "name": "stdout",
     "output_type": "stream",
     "text": [
      "64\n",
      "512\n",
      "4096\n"
     ]
    }
   ],
   "source": [
    "for value in numberpower_generator():  \n",
    "    print(value) "
   ]
  },
  {
   "cell_type": "code",
   "execution_count": null,
   "metadata": {},
   "outputs": [],
   "source": [
    "# infinit generator\n",
    "def numberpower_generator():\n",
    "    while True:\n",
    "    x = random.randint(0,10)\n",
    "    yield x**2\n",
    "    "
   ]
  },
  {
   "cell_type": "code",
   "execution_count": null,
   "metadata": {},
   "outputs": [],
   "source": [
    "n=0\n",
    "for value in numberpower_generator():  \n",
    "    print(value) \n",
    "    n+=1\n",
    "    #shutdown\n",
    "    if n == 10:\n",
    "        break"
   ]
  },
  {
   "cell_type": "code",
   "execution_count": null,
   "metadata": {},
   "outputs": [],
   "source": []
  },
  {
   "cell_type": "code",
   "execution_count": null,
   "metadata": {},
   "outputs": [],
   "source": [
    "# data generator example"
   ]
  },
  {
   "cell_type": "code",
   "execution_count": 81,
   "metadata": {},
   "outputs": [],
   "source": [
    "def list_data_generator(batch_size, data_x, data_y, shuffle=True):\n",
    "    \"\"\"\n",
    "    yield pair of (X,Y) from data_x and data_y by generator\n",
    "    \"\"\"\n",
    "    data_lng = len(data_x) \n",
    "    index_list = [*range(data_lng)] \n",
    "    if shuffle:\n",
    "        random.shuffle(index_list) \n",
    "    \n",
    "    index = 0 \n",
    "    while True: # infinit generator\n",
    "        X = [0]*batch_size \n",
    "        Y = [0]*batch_size \n",
    "        print('do generator again')\n",
    "        for i in range(batch_size):\n",
    "            if index >= data_lng: # start from new datalist if not long enough for batch_size\n",
    "                index = 0\n",
    "                if shuffle:\n",
    "                    random.shuffle(index_list) \n",
    "\n",
    "            X[i] = data_x[index_list[index]] \n",
    "            Y[i] = data_y[index_list[index]] \n",
    "            index += 1\n",
    "\n",
    "        yield((X, Y))"
   ]
  },
  {
   "cell_type": "code",
   "execution_count": 82,
   "metadata": {},
   "outputs": [],
   "source": [
    "batch_size = 10\n",
    "data_x = [*range(5)]\n",
    "data_y = [i * 2 for i in data_x]"
   ]
  },
  {
   "cell_type": "code",
   "execution_count": 86,
   "metadata": {},
   "outputs": [],
   "source": [
    "generator = list_data_generator(batch_size, data_x, data_y, shuffle=True)\n",
    "#next(generator)"
   ]
  },
  {
   "cell_type": "code",
   "execution_count": 87,
   "metadata": {},
   "outputs": [
    {
     "name": "stdout",
     "output_type": "stream",
     "text": [
      "do generator again\n"
     ]
    },
    {
     "data": {
      "text/plain": [
       "([3, 2, 1, 0, 4, 0, 1, 4, 3, 2], [6, 4, 2, 0, 8, 0, 2, 8, 6, 4])"
      ]
     },
     "execution_count": 87,
     "metadata": {},
     "output_type": "execute_result"
    }
   ],
   "source": [
    "next(generator)"
   ]
  },
  {
   "cell_type": "code",
   "execution_count": 88,
   "metadata": {},
   "outputs": [
    {
     "name": "stdout",
     "output_type": "stream",
     "text": [
      "do generator again\n",
      "([4, 0, 1, 2, 3, 1, 0, 4, 3, 2], [8, 0, 2, 4, 6, 2, 0, 8, 6, 4])\n",
      "do generator again\n",
      "([4, 3, 1, 0, 2, 4, 2, 3, 0, 1], [8, 6, 2, 0, 4, 8, 4, 6, 0, 2])\n",
      "do generator again\n",
      "([1, 4, 2, 0, 3, 4, 0, 1, 3, 2], [2, 8, 4, 0, 6, 8, 0, 2, 6, 4])\n",
      "do generator again\n",
      "([2, 1, 4, 0, 3, 3, 2, 0, 4, 1], [4, 2, 8, 0, 6, 6, 4, 0, 8, 2])\n",
      "do generator again\n",
      "([2, 1, 4, 0, 3, 0, 4, 2, 3, 1], [4, 2, 8, 0, 6, 0, 8, 4, 6, 2])\n",
      "do generator again\n",
      "([3, 4, 1, 2, 0, 2, 1, 4, 3, 0], [6, 8, 2, 4, 0, 4, 2, 8, 6, 0])\n",
      "do generator again\n",
      "([3, 4, 0, 2, 1, 0, 4, 3, 2, 1], [6, 8, 0, 4, 2, 0, 8, 6, 4, 2])\n",
      "do generator again\n",
      "([3, 0, 4, 2, 1, 1, 2, 3, 0, 4], [6, 0, 8, 4, 2, 2, 4, 6, 0, 8])\n",
      "do generator again\n",
      "([0, 2, 1, 3, 4, 0, 4, 2, 3, 1], [0, 4, 2, 6, 8, 0, 8, 4, 6, 2])\n",
      "do generator again\n",
      "([4, 2, 3, 0, 1, 4, 2, 0, 3, 1], [8, 4, 6, 0, 2, 8, 4, 0, 6, 2])\n"
     ]
    }
   ],
   "source": [
    "n=0\n",
    "for i in generator:\n",
    "    print(i)\n",
    "    n+=1\n",
    "    if n==10:\n",
    "        break"
   ]
  },
  {
   "cell_type": "code",
   "execution_count": null,
   "metadata": {},
   "outputs": [],
   "source": []
  }
 ],
 "metadata": {
  "kernelspec": {
   "display_name": "Python 3",
   "language": "python",
   "name": "python3"
  },
  "language_info": {
   "codemirror_mode": {
    "name": "ipython",
    "version": 3
   },
   "file_extension": ".py",
   "mimetype": "text/x-python",
   "name": "python",
   "nbconvert_exporter": "python",
   "pygments_lexer": "ipython3",
   "version": "3.6.9"
  }
 },
 "nbformat": 4,
 "nbformat_minor": 4
}
